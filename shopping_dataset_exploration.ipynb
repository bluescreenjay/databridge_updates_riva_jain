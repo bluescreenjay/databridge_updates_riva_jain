{
 "cells": [
  {
   "cell_type": "markdown",
   "id": "1a370504",
   "metadata": {},
   "source": [
    "Checking for basic validations/asking basic questions and answering them using visualizations on a small shopping dataset. Dataset available here: https://www.kaggle.com/datasets/zubairamuti/shopping-behaviours-dataset"
   ]
  },
  {
   "cell_type": "markdown",
   "id": "f964838d",
   "metadata": {},
   "source": [
    "Reading in and checking the cleanliness of the data:"
   ]
  },
  {
   "cell_type": "markdown",
   "id": "371abadd",
   "metadata": {},
   "source": [
    "Checking for basic validations first: I'm assuming basic validations means asking questions about the scope of the data and how it varies."
   ]
  },
  {
   "cell_type": "code",
   "execution_count": null,
   "id": "f7f284f7",
   "metadata": {
    "vscode": {
     "languageId": "plaintext"
    }
   },
   "outputs": [],
   "source": [
    "Check: How does the sample vary across different variables? (Using this to check bias)"
   ]
  },
  {
   "cell_type": "markdown",
   "id": "6adaa58c",
   "metadata": {},
   "source": [
    "Asking question 1: How does gender affect color preference?"
   ]
  },
  {
   "cell_type": "markdown",
   "id": "9b042c04",
   "metadata": {},
   "source": [
    "Asking question 2: Does location affect"
   ]
  }
 ],
 "metadata": {
  "language_info": {
   "name": "python"
  }
 },
 "nbformat": 4,
 "nbformat_minor": 5
}
